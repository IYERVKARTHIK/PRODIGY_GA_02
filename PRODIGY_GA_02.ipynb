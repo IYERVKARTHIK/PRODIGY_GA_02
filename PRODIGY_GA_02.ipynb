{
  "nbformat": 4,
  "nbformat_minor": 0,
  "metadata": {
    "colab": {
      "provenance": [],
      "toc_visible": true,
      "gpuType": "T4",
      "authorship_tag": "ABX9TyOvyQ0WxJwuzmLZ4sl6zy9e",
      "include_colab_link": true
    },
    "kernelspec": {
      "name": "python3",
      "display_name": "Python 3"
    },
    "language_info": {
      "name": "python"
    },
    "accelerator": "GPU"
  },
  "cells": [
    {
      "cell_type": "markdown",
      "metadata": {
        "id": "view-in-github",
        "colab_type": "text"
      },
      "source": [
        "<a href=\"https://colab.research.google.com/github/IYERVKARTHIK/PRODIGY_GA_02/blob/main/PRODIGY_GA_02.ipynb\" target=\"_parent\"><img src=\"https://colab.research.google.com/assets/colab-badge.svg\" alt=\"Open In Colab\"/></a>"
      ]
    },
    {
      "cell_type": "markdown",
      "source": [
        "# ✅ Text-to-Image Generator with Stable Diffusion"
      ],
      "metadata": {
        "id": "Z4hieDzxDCsg"
      }
    },
    {
      "cell_type": "code",
      "execution_count": null,
      "metadata": {
        "id": "nmSb3pXAuAaJ"
      },
      "outputs": [],
      "source": [
        "# ✅ Text-to-Image Generator with Stable Diffusion (Colab + Gradio)\n",
        "\n",
        "!pip install diffusers transformers accelerate torch gradio --quiet\n",
        "\n",
        "import torch\n",
        "from diffusers import StableDiffusionPipeline\n",
        "import gradio as gr\n",
        "\n",
        "# Authenticate with Hugging Face (you can use a token if needed)\n",
        "from huggingface_hub import notebook_login\n",
        "notebook_login()"
      ]
    },
    {
      "cell_type": "markdown",
      "source": [
        "# Load the pipeline"
      ],
      "metadata": {
        "id": "8wdc2J5NDVIC"
      }
    },
    {
      "cell_type": "code",
      "source": [
        "# Load the pipeline\n",
        "pipe = StableDiffusionPipeline.from_pretrained(\n",
        "    \"runwayml/stable-diffusion-v1-5\",\n",
        "    torch_dtype=torch.float16\n",
        ").to(\"cuda\")"
      ],
      "metadata": {
        "id": "_o7-KXcUuHm8"
      },
      "execution_count": null,
      "outputs": []
    },
    {
      "cell_type": "markdown",
      "source": [
        "# Function to generate image"
      ],
      "metadata": {
        "id": "HY3fhBgLDc3H"
      }
    },
    {
      "cell_type": "code",
      "source": [
        "# Function to generate image\n",
        "def generate_image(prompt):\n",
        "    image = pipe(prompt).images[0]\n",
        "    return image"
      ],
      "metadata": {
        "id": "XRpI0g3CuLGO"
      },
      "execution_count": null,
      "outputs": []
    },
    {
      "cell_type": "markdown",
      "source": [
        "# Gradio Interface"
      ],
      "metadata": {
        "id": "E5uh6hXADhPi"
      }
    },
    {
      "cell_type": "code",
      "source": [
        "# Gradio Interface\n",
        "gr.Interface(\n",
        "    fn=generate_image,\n",
        "    inputs=gr.Textbox(lines=2, placeholder=\"Enter your image prompt here...\", label=\"Prompt\"),\n",
        "    outputs=gr.Image(label=\"Generated Image\"),\n",
        "    title=\"🖼️ Text-to-Image Generator with Stable Diffusion\",\n",
        "    description=\"Enter a creative prompt and watch AI turn it into an image!\"\n",
        ").launch()"
      ],
      "metadata": {
        "id": "0RTwY2AvuNYX"
      },
      "execution_count": null,
      "outputs": []
    }
  ]
}